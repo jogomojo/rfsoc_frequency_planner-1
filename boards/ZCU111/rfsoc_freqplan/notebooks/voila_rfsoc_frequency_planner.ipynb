{
 "cells": [
  {
   "cell_type": "markdown",
   "metadata": {
    "tags": [
     "ignore_me"
    ]
   },
   "source": [
    "<img src=\"images/strath_banner.png\" align=\"left\">"
   ]
  },
  {
   "cell_type": "markdown",
   "metadata": {
    "tags": [
     "ignore_me"
    ]
   },
   "source": [
    "# An RFSoC Frequency Planning Tool with Voila\n",
    "----\n",
    "\n",
    "<div class=\"alert alert-box alert-info\">\n",
    "Please use Jupyter Labs http://ip_address/lab for this notebook.\n",
    "</div>\n",
    "\n",
    "The RFSoC frequency planner tool developed by the [University of Strathclyde](https://github.com/strath-sdr/rfsoc_frequency_planner) is a Python implementation of the [original RFSoC frequency planner](https://www.xilinx.com/publications/products/tools/zynq-ultrascale-plus-rfsoc-frequency-planner-rev1p7.xlsx.zip) designed by Xilinx. This notebook is specifically for Voila dashboards. If you would like to see an overview of the RFSoC frequency planner tool, see this [notebook](rfsoc_frequency_planner.ipynb) instead. \n",
    "\n",
    "## Table of Contents\n",
    "* [Introduction](#introduction)\n",
    "* [Running this Demonstration](#running-this-demonstration)\n",
    "* [The Voila Procedure](#the-voila-procedure)\n",
    "    * [Import Libraries](#import-libraries)\n",
    "    * [Initialise Application](#initialise-application)\n",
    "    * [Dashboard Display](#dashboard-display)\n",
    "* [Conclusion](#conclusion)\n",
    "\n",
    "## References\n",
    "* [Xilinx, Inc, \"USP RF Data Converter: LogiCORE IP Product Guide\", PG269, v2.3, June 2020](https://www.xilinx.com/support/documentation/ip_documentation/usp_rf_data_converter/v2_3/pg269-rf-data-converter.pdf)\n",
    "\n",
    "* [Xilinx, Inc, \"RFSoC Frequency Planner\", rev1p7, March, 2020](https://www.xilinx.com/publications/products/tools/zynq-ultrascale-plus-rfsoc-frequency-planner-rev1p7.xlsx.zip)\n",
    "\n",
    "## Revision History\n",
    "* **v1.0** | 19/02/2021 | First frequency planner notebook"
   ]
  },
  {
   "cell_type": "markdown",
   "metadata": {
    "tags": [
     "ignore_me"
    ]
   },
   "source": [
    "----"
   ]
  },
  {
   "cell_type": "markdown",
   "metadata": {
    "tags": [
     "ignore_me"
    ]
   },
   "source": [
    "## Introduction <a class=\"anchor\" id=\"introduction\"></a>\n",
    "The RFSoC frequency planner tool enables users to evaluate properties of their RFSoC platform that impact design performance. This Python implementation of the RFSoC frequency planner is capable of providing dynamic feedback and visualisation through plotly. Users can control the planner through ipywidget modules. This notebooks is specifically for running the RFSoC frequency planner using Voila dashboards. Follow the instructions outline in [Running this Demonstration](#running-this-demonstration) to learn more."
   ]
  },
  {
   "cell_type": "markdown",
   "metadata": {
    "tags": [
     "ignore_me"
    ]
   },
   "source": [
    "----"
   ]
  },
  {
   "cell_type": "markdown",
   "metadata": {
    "tags": [
     "ignore_me"
    ]
   },
   "source": [
    "## Running this Demonstration <a class=\"anchor\" id=\"running-this-demonstration\"></a>\n",
    "Voila can be used to execute the RFSoC frequency planner tool and ignore all of the markdown and code cells typically found in a normal Jupyter notebook. The Voila dashboard can be launched following the instructions below:\n",
    "\n",
    "* Open the Jupyter Quick Launch window as below:\n",
    "\n",
    "<figure>\n",
    "<img src='images/open_jupyter_launcher.jpg' height='25%' width='25%'/>\n",
    "</figure>\n",
    "\n",
    "* Open a terminal window.\n",
    "\n",
    "<figure>\n",
    "<img src='images/open_terminal_window.jpg' height='30%' width='30%'/>\n",
    "</figure>\n",
    "\n",
    "* Start a Voila session by running the command below in the terminal (just copy and paste it into the terminal):\n",
    "\n",
    "```bash\n",
    "voila /home/xilinx/jupyter_notebooks/frequency-planner/voila_rfsoc_frequency_planner.ipynb --ExecutePreprocessor.timeout=180 --port=8866 --TagRemovePreprocessor.remove_cell_tags='{\"ignore_me\"}'\n",
    "```\n",
    "\n",
    "* You can now open a new browser tab and enter the following into the address bar: http://board_ip_address:8866\n",
    "\n",
    "After you open the new tab at the address above, the kernel will start and the notebook will run. Only the frequency planner will be displayed. The initialisation process takes around 1 minute.\n",
    "\n",
    "## The Voila Procedure <a class=\"anchor\" id=\"the-voila-procedure\"></a>\n",
    "Below are the code cells that will be ran when Voila is called. The procedure is fairly straight forward. Load the rfsoc-freqplan library, initialise the application, and display the frequency planner. All you have to ensure is that the above command is executed in the terminal and you have launched a browser tab using the given address. You do not need to run these code cells individually to create the voila dashboard.\n",
    "\n",
    "### Import Libraries <a class=\"anchor\" id=\"import-libraries\"></a>"
   ]
  },
  {
   "cell_type": "code",
   "execution_count": null,
   "metadata": {},
   "outputs": [],
   "source": [
    "from rfsoc_freqplan.application import FrequencyPlannerApplication"
   ]
  },
  {
   "cell_type": "markdown",
   "metadata": {
    "tags": [
     "ignore_me"
    ]
   },
   "source": [
    "### Initialise Overlay <a class=\"anchor\" id=\"initialise-display\"></a>"
   ]
  },
  {
   "cell_type": "code",
   "execution_count": null,
   "metadata": {},
   "outputs": [],
   "source": [
    "freqplan = FrequencyPlannerApplication()"
   ]
  },
  {
   "cell_type": "markdown",
   "metadata": {
    "tags": [
     "ignore_me"
    ]
   },
   "source": [
    "### Dashboard Display <a class=\"anchor\" id=\"dashboard-display\"></a>"
   ]
  },
  {
   "cell_type": "code",
   "execution_count": null,
   "metadata": {},
   "outputs": [],
   "source": [
    "freqplan.tab"
   ]
  },
  {
   "cell_type": "markdown",
   "metadata": {
    "tags": [
     "ignore_me"
    ]
   },
   "source": [
    "## Conclusion <a class=\"anchor\" id=\"conclusion\"></a>\n",
    "This notebook has presented a Python based RFSoC frequency planner. The demonstration used voila to enable rapid dashboarding for visualisation and control."
   ]
  }
 ],
 "metadata": {
  "celltoolbar": "Tags",
  "kernelspec": {
   "display_name": "Python 3",
   "language": "python",
   "name": "python3"
  },
  "language_info": {
   "codemirror_mode": {
    "name": "ipython",
    "version": 3
   },
   "file_extension": ".py",
   "mimetype": "text/x-python",
   "name": "python",
   "nbconvert_exporter": "python",
   "pygments_lexer": "ipython3",
   "version": "3.6.5"
  }
 },
 "nbformat": 4,
 "nbformat_minor": 4
}