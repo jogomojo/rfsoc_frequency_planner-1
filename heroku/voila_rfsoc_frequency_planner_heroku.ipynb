{
 "cells": [
  {
   "cell_type": "markdown",
   "metadata": {
    "tags": [
     "ignore_me"
    ]
   },
   "source": [
    "<img src=\"images/strathsdr_banner.png\" width=\"50%\" align=\"left\">"
   ]
  },
  {
   "cell_type": "markdown",
   "metadata": {
    "tags": [
     "ignore_me"
    ]
   },
   "source": [
    "# RFSoC Frequency Planning Tool\n",
    "\n",
    "This Frequency Planning Tool is derived from an original tool released by Xilinx for their Zynq Ultrascale+ RFSoC line of devices. The original tool, and more information about the RFSoC can be found [here](https://www.xilinx.com/products/silicon-devices/soc/rfsoc.html). Currently, this version of the tool only supports Gen1 RFSoC devices.\n",
    "\n",
    "You can report any bugs or issues at the [GitHub repo](https://github.com/strath-sdr/rfsoc_frequency_planner)."
   ]
  },
  {
   "cell_type": "code",
   "execution_count": 1,
   "metadata": {},
   "outputs": [
    {
     "data": {
      "application/vnd.jupyter.widget-view+json": {
       "model_id": "56491dc20bd74a3b85a4acd4f07b7191",
       "version_major": 2,
       "version_minor": 0
      },
      "text/plain": [
       "Tab(children=(HTML(value='<html>\\n\\n<style>a{color: #3366BB;}</style>\\n<style>h3{padding:0px; margin:0px }</st…"
      ]
     },
     "metadata": {},
     "output_type": "display_data"
    }
   ],
   "source": [
    "from rfsoc_freqplan.application import FrequencyPlannerApplication\n",
    "freqplan = FrequencyPlannerApplication()\n",
    "freqplan.tab"
   ]
  }
 ],
 "metadata": {
  "celltoolbar": "Tags",
  "kernelspec": {
   "display_name": "Python 3",
   "language": "python",
   "name": "python3"
  },
  "language_info": {
   "codemirror_mode": {
    "name": "ipython",
    "version": 3
   },
   "file_extension": ".py",
   "mimetype": "text/x-python",
   "name": "python",
   "nbconvert_exporter": "python",
   "pygments_lexer": "ipython3",
   "version": "3.6.9"
  }
 },
 "nbformat": 4,
 "nbformat_minor": 4
}
